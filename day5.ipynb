{
 "cells": [
  {
   "cell_type": "code",
   "execution_count": null,
   "id": "21002044",
   "metadata": {},
   "outputs": [],
   "source": []
  },
  {
   "cell_type": "code",
   "execution_count": 18,
   "id": "1bb00255",
   "metadata": {},
   "outputs": [],
   "source": [
    "def add(a,b):\n",
    "    \n",
    "    s=a+b\n",
    "    \n",
    "    return s"
   ]
  },
  {
   "cell_type": "code",
   "execution_count": 22,
   "id": "42ae1bad",
   "metadata": {},
   "outputs": [
    {
     "data": {
      "text/plain": [
       "5"
      ]
     },
     "execution_count": 22,
     "metadata": {},
     "output_type": "execute_result"
    }
   ],
   "source": [
    "add(3,2)"
   ]
  },
  {
   "cell_type": "code",
   "execution_count": 24,
   "id": "a8cd0541",
   "metadata": {},
   "outputs": [
    {
     "name": "stdout",
     "output_type": "stream",
     "text": [
      "enter first number5\n",
      "enter first number6\n",
      "sum is 11\n"
     ]
    }
   ],
   "source": [
    "x=int(input('enter first number'))\n",
    "y=int(input('enter first number'))\n",
    "print('sum is',add(x,y))"
   ]
  },
  {
   "cell_type": "code",
   "execution_count": 37,
   "id": "864e8dbb",
   "metadata": {},
   "outputs": [],
   "source": [
    "def largest(x,y,z):\n",
    "    if x>y and x>z:\n",
    "        return x\n",
    "    elif y>x and y>z:\n",
    "        return y\n",
    "    else:\n",
    "         return z\n"
   ]
  },
  {
   "cell_type": "raw",
   "id": "acc928e8",
   "metadata": {},
   "source": [
    "\n",
    "largest(1,2,3)"
   ]
  },
  {
   "cell_type": "code",
   "execution_count": 39,
   "id": "e115ff21",
   "metadata": {},
   "outputs": [
    {
     "data": {
      "text/plain": [
       "3"
      ]
     },
     "execution_count": 39,
     "metadata": {},
     "output_type": "execute_result"
    }
   ],
   "source": [
    "largest(1,2,3)"
   ]
  },
  {
   "cell_type": "code",
   "execution_count": 46,
   "id": "59b7dbbd",
   "metadata": {},
   "outputs": [
    {
     "name": "stdout",
     "output_type": "stream",
     "text": [
      "4\n"
     ]
    }
   ],
   "source": [
    "scores=[1,2,3,4,5,5]\n",
    "sc_set=set(scores)\n",
    "top=max(sc_set)\n",
    "sc_set.remove(top)\n",
    "print(max(sc_set))"
   ]
  },
  {
   "cell_type": "code",
   "execution_count": 50,
   "id": "575e3830",
   "metadata": {},
   "outputs": [
    {
     "name": "stdout",
     "output_type": "stream",
     "text": [
      "{1, 2, 3, 4, 5, 6, 7, 8, 9}\n"
     ]
    }
   ],
   "source": [
    "s1={1,3,5,7,9}\n",
    "s2={2,4,6,8}\n",
    "if s1.intersection(s2):\n",
    "    print(s1&s2)    \n",
    "else:\n",
    "     print(s1.union(s2))"
   ]
  },
  {
   "cell_type": "code",
   "execution_count": 56,
   "id": "8ebd6674",
   "metadata": {},
   "outputs": [
    {
     "name": "stdout",
     "output_type": "stream",
     "text": [
      "Enter the name to be updatejohn\n",
      "{'john': [88, 77, 99], 'peter': [87, 55, 96], 'Ram': [58, 55, 43], 'meena': [63, 79, 45]}\n"
     ]
    }
   ],
   "source": [
    "D={'john':[25,32,43],'peter':[87,55,96],'Ram':[58,55,43],'meena':[63,79,45]}\n",
    "n=input('Enter the name to be update')\n",
    "if n in D:\n",
    "    D[n]=[88,77,99]\n",
    "    print(D)\n",
    "else:\n",
    "    print('name not found')"
   ]
  },
  {
   "cell_type": "code",
   "execution_count": 65,
   "id": "98558769",
   "metadata": {},
   "outputs": [
    {
     "name": "stdout",
     "output_type": "stream",
     "text": [
      "elder= 48\n",
      "young= 23\n"
     ]
    }
   ],
   "source": [
    "age=[23,36,48]\n",
    "print('elder=',max(age))\n",
    "print('young=',min(age))"
   ]
  },
  {
   "cell_type": "code",
   "execution_count": 68,
   "id": "9e00b752",
   "metadata": {},
   "outputs": [
    {
     "data": {
      "text/plain": [
       "'Nraa'"
      ]
     },
     "execution_count": 68,
     "metadata": {},
     "output_type": "execute_result"
    }
   ],
   "source": [
    "s='Nirmala'\n",
    "s[::2]"
   ]
  }
 ],
 "metadata": {
  "kernelspec": {
   "display_name": "Python 3 (ipykernel)",
   "language": "python",
   "name": "python3"
  },
  "language_info": {
   "codemirror_mode": {
    "name": "ipython",
    "version": 3
   },
   "file_extension": ".py",
   "mimetype": "text/x-python",
   "name": "python",
   "nbconvert_exporter": "python",
   "pygments_lexer": "ipython3",
   "version": "3.11.5"
  }
 },
 "nbformat": 4,
 "nbformat_minor": 5
}
